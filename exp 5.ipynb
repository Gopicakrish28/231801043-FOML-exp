{
 "cells": [
  {
   "cell_type": "code",
   "execution_count": 3,
   "id": "c7c3031d-b79d-437f-b3f8-05782783b825",
   "metadata": {},
   "outputs": [
    {
     "name": "stdout",
     "output_type": "stream",
     "text": [
      "Weights: [[5.13607423]\n",
      " [5.13607425]]\n",
      "Bias: -7.7984793971029855\n",
      "Input: [0 0], Prediction: [0.00041019]\n",
      "Input: [0 1], Prediction: [0.06522853]\n",
      "Input: [1 1], Prediction: [0.92227519]\n",
      "Input: [1 0], Prediction: [0.06522853]\n"
     ]
    }
   ],
   "source": [
    "import pandas as pd\n",
    "import numpy as np\n",
    "from sklearn.model_selection import train_test_split\n",
    "from sklearn.neural_network import MLPClassifier\n",
    "from sklearn.metrics import classification_report, confusion_matrix\n",
    "#231801043 GOPICA H\n",
    "\n",
    "bnotes = pd.read_csv('banknote-authentication - banknote-authentication.csv')\n",
    "\n",
    "X = bnotes.drop('class', axis=1)  \n",
    "y = bnotes['class']\n",
    "\n",
    "def train_and_evaluate(X, y, test_size):\n",
    "    X_train, X_test, y_train, y_test = train_test_split(X, y, test_size=test_size)\n",
    "    for activation in ['relu', 'logistic', 'tanh', 'identity']:\n",
    "        print(f\"\\nTraining MLPClassifier with activation function: {activation} (Train-Test Ratio: {1 - test_size})\")\n",
    "        mlp = MLPClassifier(max_iter=500, activation=activation)\n",
    "        mlp.fit(X_train, y_train)\n",
    "        pred = mlp.predict(X_test)\n",
    "        print(\"Confusion Matrix:\")\n",
    "        print(confusion_matrix(y_test, pred))\n",
    "        print(\"\\nClassification Report:\")\n",
    "        print(classification_report(y_test, pred))\n",
    "\n",
    "train_and_evaluate(X, y, test_size=0.2)\n",
    "\n",
    "train_and_evaluate(X, y, test_size=0.3)\n"
   ]
  },
  {
   "cell_type": "code",
   "execution_count": null,
   "id": "81cdcfd2-47a9-4538-bc9f-551a44671a85",
   "metadata": {},
   "outputs": [],
   "source": []
  }
 ],
 "metadata": {
  "kernelspec": {
   "display_name": "Python 3 (ipykernel)",
   "language": "python",
   "name": "python3"
  },
  "language_info": {
   "codemirror_mode": {
    "name": "ipython",
    "version": 3
   },
   "file_extension": ".py",
   "mimetype": "text/x-python",
   "name": "python",
   "nbconvert_exporter": "python",
   "pygments_lexer": "ipython3",
   "version": "3.12.5"
  }
 },
 "nbformat": 4,
 "nbformat_minor": 5
}
